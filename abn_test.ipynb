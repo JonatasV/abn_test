{
 "cells": [
  {
   "cell_type": "markdown",
   "id": "2f3884be",
   "metadata": {},
   "source": [
    "# A/B/n Testing Course - PA James\n"
   ]
  },
  {
   "cell_type": "markdown",
   "id": "aee22bc0",
   "metadata": {},
   "source": [
    "## 0.1 Imports\n"
   ]
  },
  {
   "cell_type": "code",
   "execution_count": 1,
   "id": "30672f11",
   "metadata": {
    "ExecuteTime": {
     "end_time": "2024-01-22T19:28:23.465714Z",
     "start_time": "2024-01-22T19:28:21.339012Z"
    }
   },
   "outputs": [],
   "source": [
    "import pandas as pd\n",
    "import numpy as np\n",
    "\n",
    "from itertools import combinations\n",
    "\n",
    "import scipy.stats as stats\n",
    "from statsmodels.stats.gof import chisquare_effectsize\n",
    "from statsmodels.stats.power import GofChisquarePower, TTestIndPower\n",
    "from statsmodels.sandbox.stats.multicomp import multipletests"
   ]
  },
  {
   "cell_type": "markdown",
   "id": "78aa1319",
   "metadata": {
    "ExecuteTime": {
     "end_time": "2023-12-16T12:08:08.641376Z",
     "start_time": "2023-12-16T12:08:08.632100Z"
    }
   },
   "source": [
    "# 1.0 Load Data"
   ]
  },
  {
   "cell_type": "code",
   "execution_count": 2,
   "id": "88c5827c",
   "metadata": {
    "ExecuteTime": {
     "end_time": "2024-01-22T19:28:23.483920Z",
     "start_time": "2024-01-22T19:28:23.467257Z"
    }
   },
   "outputs": [
    {
     "data": {
      "text/html": [
       "<div>\n",
       "<style scoped>\n",
       "    .dataframe tbody tr th:only-of-type {\n",
       "        vertical-align: middle;\n",
       "    }\n",
       "\n",
       "    .dataframe tbody tr th {\n",
       "        vertical-align: top;\n",
       "    }\n",
       "\n",
       "    .dataframe thead th {\n",
       "        text-align: right;\n",
       "    }\n",
       "</style>\n",
       "<table border=\"1\" class=\"dataframe\">\n",
       "  <thead>\n",
       "    <tr style=\"text-align: right;\">\n",
       "      <th></th>\n",
       "      <th>variant</th>\n",
       "      <th>visits</th>\n",
       "      <th>clicks_all</th>\n",
       "      <th>clicks_link</th>\n",
       "      <th>conversion</th>\n",
       "    </tr>\n",
       "  </thead>\n",
       "  <tbody>\n",
       "    <tr>\n",
       "      <th>0</th>\n",
       "      <td>interact</td>\n",
       "      <td>10283</td>\n",
       "      <td>3714</td>\n",
       "      <td>42</td>\n",
       "      <td>0.011309</td>\n",
       "    </tr>\n",
       "    <tr>\n",
       "      <th>1</th>\n",
       "      <td>connect</td>\n",
       "      <td>2742</td>\n",
       "      <td>1587</td>\n",
       "      <td>53</td>\n",
       "      <td>0.033396</td>\n",
       "    </tr>\n",
       "    <tr>\n",
       "      <th>2</th>\n",
       "      <td>learn</td>\n",
       "      <td>2747</td>\n",
       "      <td>1652</td>\n",
       "      <td>21</td>\n",
       "      <td>0.012712</td>\n",
       "    </tr>\n",
       "    <tr>\n",
       "      <th>3</th>\n",
       "      <td>help</td>\n",
       "      <td>3180</td>\n",
       "      <td>1717</td>\n",
       "      <td>38</td>\n",
       "      <td>0.022132</td>\n",
       "    </tr>\n",
       "    <tr>\n",
       "      <th>4</th>\n",
       "      <td>services</td>\n",
       "      <td>2064</td>\n",
       "      <td>1348</td>\n",
       "      <td>45</td>\n",
       "      <td>0.033383</td>\n",
       "    </tr>\n",
       "  </tbody>\n",
       "</table>\n",
       "</div>"
      ],
      "text/plain": [
       "    variant  visits  clicks_all  clicks_link  conversion\n",
       "0  interact   10283        3714           42    0.011309\n",
       "1   connect    2742        1587           53    0.033396\n",
       "2     learn    2747        1652           21    0.012712\n",
       "3      help    3180        1717           38    0.022132\n",
       "4  services    2064        1348           45    0.033383"
      ]
     },
     "execution_count": 2,
     "metadata": {},
     "output_type": "execute_result"
    }
   ],
   "source": [
    "d = {'variant': ['interact', 'connect', 'learn', 'help', 'services'],\n",
    "    'visits': [10283, 2742, 2747, 3180, 2064],\n",
    "    'clicks_all': [3714, 1587, 1652, 1717, 1348],\n",
    "    'clicks_link':[42, 53, 21, 38, 45]}\n",
    "\n",
    "data = pd.DataFrame(d)\n",
    "data['conversion'] = data['clicks_link'] / data['clicks_all']\n",
    "data"
   ]
  },
  {
   "cell_type": "markdown",
   "id": "fee704e9",
   "metadata": {},
   "source": [
    "# 2.0 Design de Experimentos\n"
   ]
  },
  {
   "cell_type": "markdown",
   "id": "2e31ccf2",
   "metadata": {},
   "source": [
    "### 2.1 Hypothesis Formulation"
   ]
  },
  {
   "cell_type": "code",
   "execution_count": 3,
   "id": "fa879dc1",
   "metadata": {
    "ExecuteTime": {
     "end_time": "2024-01-22T19:28:23.486949Z",
     "start_time": "2024-01-22T19:28:23.485191Z"
    }
   },
   "outputs": [],
   "source": [
    "#H0: There is no difference between the CTR of the page variants.\n",
    "#H1: There is a difference between the CTR of the page variants."
   ]
  },
  {
   "cell_type": "markdown",
   "id": "865d1ba2",
   "metadata": {},
   "source": [
    "### 2.2 Experiment Parameters"
   ]
  },
  {
   "cell_type": "code",
   "execution_count": 4,
   "id": "48b69a64",
   "metadata": {
    "ExecuteTime": {
     "end_time": "2024-01-22T19:28:23.490789Z",
     "start_time": "2024-01-22T19:28:23.488072Z"
    }
   },
   "outputs": [],
   "source": [
    "k = len(data['clicks_all'])\n",
    "actual_dist = data['clicks_link'] / data['clicks_link'].sum()\n",
    "expected_dist = [1 / k] * k"
   ]
  },
  {
   "cell_type": "code",
   "execution_count": 5,
   "id": "17acd113",
   "metadata": {
    "ExecuteTime": {
     "end_time": "2024-01-22T19:28:23.494579Z",
     "start_time": "2024-01-22T19:28:23.492781Z"
    }
   },
   "outputs": [],
   "source": [
    "effect_size = chisquare_effectsize(expected_dist, actual_dist)"
   ]
  },
  {
   "cell_type": "code",
   "execution_count": 6,
   "id": "b82fe21d",
   "metadata": {
    "ExecuteTime": {
     "end_time": "2024-01-22T19:28:23.505402Z",
     "start_time": "2024-01-22T19:28:23.495463Z"
    }
   },
   "outputs": [
    {
     "name": "stdout",
     "output_type": "stream",
     "text": [
      "Minimun sample size per Variant: 222\n",
      "Total sample size: 1110\n"
     ]
    }
   ],
   "source": [
    "effect_size = chisquare_effectsize(expected_dist, actual_dist)\n",
    "alpha = 0.05\n",
    "power = 0.80\n",
    "\n",
    "# GOF = good of fitness\n",
    "# sample_size = GofChisquarePower().solve_power(\n",
    "#     effect_size = effect_size,\n",
    "#     alpha = alpha,\n",
    "#     power = power,\n",
    "#     n_bins = (2 - 1) * (5 - 1) #degree of freedom (nrows - 1)*(ncols-1)\n",
    "# )\n",
    "\n",
    "# T-test\n",
    "sample_size = TTestIndPower().solve_power(\n",
    "    effect_size = effect_size,\n",
    "    alpha = alpha,\n",
    "    power = power)\n",
    "\n",
    "\n",
    "\n",
    "sample_size = np.ceil(sample_size).astype(int)\n",
    "print('Minimun sample size per Variant: {}'.format(sample_size))\n",
    "print('Total sample size: {}'.format(k*sample_size))\n",
    "\n",
    "#Variant = clicks_all + clicks_link\n"
   ]
  },
  {
   "cell_type": "markdown",
   "id": "8c00d1e2",
   "metadata": {},
   "source": [
    "### 3.0 Application of the Chi-Squared Test"
   ]
  },
  {
   "cell_type": "code",
   "execution_count": 7,
   "id": "e6d67707",
   "metadata": {
    "ExecuteTime": {
     "end_time": "2024-01-22T19:28:23.515425Z",
     "start_time": "2024-01-22T19:28:23.506535Z"
    }
   },
   "outputs": [
    {
     "data": {
      "text/html": [
       "<div>\n",
       "<style scoped>\n",
       "    .dataframe tbody tr th:only-of-type {\n",
       "        vertical-align: middle;\n",
       "    }\n",
       "\n",
       "    .dataframe tbody tr th {\n",
       "        vertical-align: top;\n",
       "    }\n",
       "\n",
       "    .dataframe thead th {\n",
       "        text-align: right;\n",
       "    }\n",
       "</style>\n",
       "<table border=\"1\" class=\"dataframe\">\n",
       "  <thead>\n",
       "    <tr style=\"text-align: right;\">\n",
       "      <th></th>\n",
       "      <th>clicks_link</th>\n",
       "      <th>no_clicks_link</th>\n",
       "    </tr>\n",
       "    <tr>\n",
       "      <th>variant</th>\n",
       "      <th></th>\n",
       "      <th></th>\n",
       "    </tr>\n",
       "  </thead>\n",
       "  <tbody>\n",
       "    <tr>\n",
       "      <th>interact</th>\n",
       "      <td>42</td>\n",
       "      <td>3672</td>\n",
       "    </tr>\n",
       "    <tr>\n",
       "      <th>connect</th>\n",
       "      <td>53</td>\n",
       "      <td>1534</td>\n",
       "    </tr>\n",
       "    <tr>\n",
       "      <th>learn</th>\n",
       "      <td>21</td>\n",
       "      <td>1631</td>\n",
       "    </tr>\n",
       "    <tr>\n",
       "      <th>help</th>\n",
       "      <td>38</td>\n",
       "      <td>1679</td>\n",
       "    </tr>\n",
       "    <tr>\n",
       "      <th>services</th>\n",
       "      <td>45</td>\n",
       "      <td>1303</td>\n",
       "    </tr>\n",
       "  </tbody>\n",
       "</table>\n",
       "</div>"
      ],
      "text/plain": [
       "          clicks_link  no_clicks_link\n",
       "variant                              \n",
       "interact           42            3672\n",
       "connect            53            1534\n",
       "learn              21            1631\n",
       "help               38            1679\n",
       "services           45            1303"
      ]
     },
     "execution_count": 7,
     "metadata": {},
     "output_type": "execute_result"
    }
   ],
   "source": [
    "data['no_clicks_link'] = data['clicks_all'] - data['clicks_link']\n",
    "df = data[['variant','clicks_link','no_clicks_link']]\n",
    "df = df.set_index('variant')\n",
    "df"
   ]
  },
  {
   "cell_type": "code",
   "execution_count": 8,
   "id": "2c90f0af",
   "metadata": {
    "ExecuteTime": {
     "end_time": "2024-01-22T19:28:23.520435Z",
     "start_time": "2024-01-22T19:28:23.517361Z"
    }
   },
   "outputs": [
    {
     "name": "stdout",
     "output_type": "stream",
     "text": [
      "Chi square: 46.33660181942126 - p_value: 2.0959498129984563e-09\n"
     ]
    }
   ],
   "source": [
    "# The p-value indicates that there is indeed a difference between the variants, but it does not specify which ones\n",
    "chi2, p_value, dof, ex = stats.chi2_contingency(df)\n",
    "print('Chi square: {} - p_value: {}'.format(chi2, p_value))"
   ]
  },
  {
   "cell_type": "markdown",
   "id": "8a240865",
   "metadata": {},
   "source": [
    "## 4.0 Post-hoc Testing"
   ]
  },
  {
   "cell_type": "code",
   "execution_count": 9,
   "id": "938a37fd",
   "metadata": {
    "ExecuteTime": {
     "end_time": "2024-01-22T19:28:23.529566Z",
     "start_time": "2024-01-22T19:28:23.521603Z"
    }
   },
   "outputs": [],
   "source": [
    "# Transforms a list pair by pairr\n",
    "all_combinations = list(combinations(df.index, 2))\n",
    "p_values=[]\n",
    "\n",
    "for comb in all_combinations:\n",
    "    new_df = df[(df.index == comb[0]) | (df.index == comb[1])]\n",
    "    chi2, p_value, dof, ex = stats.chi2_contingency(new_df)\n",
    "    p_values.append(p_value)\n",
    "\n",
    "# correction of Bonferroni\n",
    "reject_list, corrected_p_values, _, _ = multipletests(p_values, method = 'bonferroni')"
   ]
  },
  {
   "cell_type": "code",
   "execution_count": 10,
   "id": "a0e52831",
   "metadata": {
    "ExecuteTime": {
     "end_time": "2024-01-22T19:28:23.534252Z",
     "start_time": "2024-01-22T19:28:23.530928Z"
    }
   },
   "outputs": [
    {
     "name": "stdout",
     "output_type": "stream",
     "text": [
      "\n",
      "('interact', 'connect'): p_value:5.3676772349808135e-08; corrected_p_value:5.367677234980813e-07; Reject:True\n",
      "\n",
      "('interact', 'learn'): p_value:0.7616980743361713; corrected_p_value:1.0; Reject:False\n",
      "\n",
      "('interact', 'help'): p_value:0.0031030587017400212; corrected_p_value:0.03103058701740021; Reject:True\n",
      "\n",
      "('interact', 'services'): p_value:1.798089447385411e-07; corrected_p_value:1.7980894473854111e-06; Reject:True\n",
      "\n",
      "('connect', 'learn'): p_value:0.00013292868361715983; corrected_p_value:0.0013292868361715984; Reject:True\n",
      "\n",
      "('connect', 'help'): p_value:0.06144184057612575; corrected_p_value:0.6144184057612575; Reject:False\n",
      "\n",
      "('connect', 'services'): p_value:1.0; corrected_p_value:1.0; Reject:False\n",
      "\n",
      "('learn', 'help'): p_value:0.0508958228881819; corrected_p_value:0.5089582288818191; Reject:False\n",
      "\n",
      "('learn', 'services'): p_value:0.00020374035733741825; corrected_p_value:0.0020374035733741825; Reject:True\n",
      "\n",
      "('help', 'services'): p_value:0.07301998638337415; corrected_p_value:0.7301998638337415; Reject:False\n"
     ]
    }
   ],
   "source": [
    "for comb, p_val, corr_p_val, reject in zip(all_combinations, p_values, corrected_p_values, reject_list):\n",
    "    print('\\n{}: p_value:{}; corrected_p_value:{}; Reject:{}'.format(comb, p_val, corr_p_val, reject))"
   ]
  },
  {
   "cell_type": "markdown",
   "id": "0e2d3a7f",
   "metadata": {},
   "source": [
    "**Recomedations - Conclusion**\n",
    "\n",
    "Interact X Connect -> p_value = 5.367677234980813e-07 \n",
    "\n",
    "Interact X Services -> p_value = 1.7980894473854111e-06 \n",
    "\n",
    "Interact X Help -> p_value = 0.03103058701740021\n",
    "\n",
    "Connect X Help: No difference\n",
    "\n",
    "Connect X Services: No difference\n",
    "\n",
    "Help X Services: No difference\n"
   ]
  },
  {
   "cell_type": "code",
   "execution_count": null,
   "id": "d2625bcc",
   "metadata": {},
   "outputs": [],
   "source": []
  }
 ],
 "metadata": {
  "kernelspec": {
   "display_name": "Python 3 (ipykernel)",
   "language": "python",
   "name": "python3"
  },
  "language_info": {
   "codemirror_mode": {
    "name": "ipython",
    "version": 3
   },
   "file_extension": ".py",
   "mimetype": "text/x-python",
   "name": "python",
   "nbconvert_exporter": "python",
   "pygments_lexer": "ipython3",
   "version": "3.9.13"
  }
 },
 "nbformat": 4,
 "nbformat_minor": 5
}
